{
 "cells": [
  {
   "cell_type": "markdown",
   "metadata": {
    "pycharm": {
     "name": "#%% md\n"
    },
    "slideshow": {
     "slide_type": "slide"
    }
   },
   "source": [
    "# Planung und Umsetzung einer automatischen Reportlösung für Wartungs-Dienstleistungen im Bereich Software Entwicklung"
   ]
  },
  {
   "cell_type": "markdown",
   "metadata": {
    "pycharm": {
     "name": "#%% md\n"
    },
    "slideshow": {
     "slide_type": "subslide"
    }
   },
   "source": [
    "<h1>\n",
    "<strike>Planung und Umsetzung einer automatischen</strike> <span style=\"color:rgb(255,102,0);\">Reportlösung </span><strike>für Wartungs-Dienstleistungen im Bereich Software Entwicklung</strike>\n",
    "</h1>"
   ]
  },
  {
   "cell_type": "markdown",
   "metadata": {
    "pycharm": {
     "name": "#%% md\n"
    },
    "slideshow": {
     "slide_type": "subslide"
    }
   },
   "source": [
    "<h1 style=\"text-align: center; text-decoration: underline solid 1px grey;\">\n",
    "Was ist ein/e Report-Lösung\n",
    "</h1>\n",
    "\n",
    "<img src=\"https://1.bp.blogspot.com/-wbe0DaayBh0/XCUxq2oAJmI/AAAAAAAAK-k/0bV32nwGo803wyORa5_3dmR8oc20-VNFgCLcBGAs/s1600/status-report.png\"\n",
    "     alt=\"report-img\"\n",
    "     style=\"display: block; margin-left: auto; margin-right: auto; width: 75%\" />"
   ]
  },
  {
   "cell_type": "markdown",
   "metadata": {
    "pycharm": {
     "name": "#%% md\n"
    },
    "slideshow": {
     "slide_type": "subslide"
    }
   },
   "source": [
    "<h1 style=\"text-align: center; text-decoration: underline solid 1px grey;\">\n",
    "    <span style=\"color:rgb(255,102,0);\">\n",
    "        Reportlösung\n",
    "    </span>\n",
    "im Bereich Software Entwicklung\n",
    "</h1>\n",
    "\n",
    "<div style=\"text-align:center; margin-top:100px\">\n",
    "    <a href=\"#\" style=\"display:inline-block;\">\n",
    "        <figure style=\"display:inline-block; padding=50px;\">\n",
    "            <img src=\"img/W3Counter.png\" width=\"800px\"  />\n",
    "            <figcaption>W3Counter</figcaption>\n",
    "        </figure>\n",
    "    </a>\n",
    "    <a href=\"#\" style=\"display:inline-block;\">\n",
    "        <figure style=\"display:inline-block; padding=50px;\">\n",
    "             <img src=\"https://storage.googleapis.com/gweb-uniblog-publish-prod/original_images/Google_Analytics_new_reporting.gif\" width=\"800px\"  />\n",
    "            <figcaption>Google Analytics</figcaption>\n",
    "        </figure>\n",
    "    </a>\n",
    "</div>"
   ]
  },
  {
   "cell_type": "markdown",
   "metadata": {
    "pycharm": {
     "name": "#%% md\n"
    },
    "slideshow": {
     "slide_type": "subslide"
    }
   },
   "source": [
    "<h1 style=\"text-align: center; text-decoration: underline solid 1px grey;\">\n",
    "    <span style=\"color:rgb(255,102,0);\">\n",
    "        Reportlösung<br>\n",
    "    </span>\n",
    "für Wartungs-Dienstleistungen <br>im Bereich Software Entwicklung\n",
    "</h1>"
   ]
  },
  {
   "cell_type": "markdown",
   "metadata": {
    "pycharm": {
     "name": "#%% md\n"
    },
    "slideshow": {
     "slide_type": "subslide"
    }
   },
   "source": [
    "<h1 style=\"text-align: center; text-decoration: underline solid 1px grey;\">\n",
    "        Warum Software-Updates wichtig sind\n",
    "</h1>\n",
    "\n",
    "<ul style=\"padding-top: 100px; display:table; margin:0 auto;\">\n",
    "    <li>\n",
    "        <h3>Optimierung</h3>\n",
    "    </li>\n",
    "    <li>\n",
    "        <h3>Featureupdates</h3>\n",
    "    </li>\n",
    "    <li>\n",
    "        <h3>Sicherheitsupdates</h3>\n",
    "    </li>\n",
    "</ul>"
   ]
  },
  {
   "cell_type": "markdown",
   "metadata": {
    "pycharm": {
     "name": "#%% md\n"
    },
    "slideshow": {
     "slide_type": "subslide"
    }
   },
   "source": [
    "<div style=\"text-align:center; margin-top:100px\">\n",
    "    <a href=\"#\" style=\"display:inline-block;\">\n",
    "        <figure style=\"display:inline-block; padding=50px;\">\n",
    "            <img src=\"img/gen_hemilton_old.png\" width=\"800px\"  />\n",
    "            <figcapture>Vorher</figcapture>\n",
    "        </figure>\n",
    "    </a>\n",
    "    <a href=\"#\" style=\"display:inline-block;\">\n",
    "        <figure style=\"display:inline-block; padding=50px;\">\n",
    "             <img src=\"img/gen_hemilton_new.png\" width=\"800px\"/>\n",
    "             <figcapture>Nachher</figcapture>\n",
    "        </figure>\n",
    "    </a>\n",
    "</div>"
   ]
  },
  {
   "cell_type": "markdown",
   "metadata": {
    "slideshow": {
     "slide_type": "slide"
    },
    "pycharm": {
     "name": "#%% md\n"
    }
   },
   "source": [
    "<h1 style=\"text-align: center; text-decoration: underline solid 1px grey;\">\n",
    "        Projektgrundlagen\n",
    "</h1>\n",
    "\n",
    "<ul style=\"padding-top: 100px; display:table; margin:0 auto;\">\n",
    "    <li>\n",
    "        <h3>Version Control System</h3>\n",
    "    </li>\n",
    "    <li>\n",
    "        <h3>CI/CD</h3>\n",
    "    </li>\n",
    "</ul>"
   ]
  },
  {
   "cell_type": "markdown",
   "metadata": {
    "slideshow": {
     "slide_type": "subslide"
    },
    "pycharm": {
     "name": "#%% md\n"
    }
   },
   "source": [
    "<h1 style=\"text-align: center; text-decoration: underline solid 1px grey;\">\n",
    "        Version Control System (VCS)\n",
    "</h1>\n",
    "\n",
    "<img src=\"img/VersionControllChart.png\"\n",
    "     alt=\"world-tsp-route\"\n",
    "     style=\"float: right; max-width: 50%; height: auto; margin-left: 10px;\" />\n",
    "\n",
    "<ul style=\"margin-top: 20px; float: left;\">\n",
    "    <li>\n",
    "        <h4>Source Code Control System (SCCS) 1972</h4>\n",
    "    </li>\n",
    "    <li>\n",
    "        <h4>Revision Control System (RCS) 1982</h4>\n",
    "    </li>\n",
    "    <li>\n",
    "        <h4>CVS (Concurrent Control Systems) 1986</h4>\n",
    "    </li>\n",
    "    <li>\n",
    "        <h4>Subversion ~2000</h4>\n",
    "    </li>\n",
    "    <li>\n",
    "        <h4>Git 2005</h4>\n",
    "    </li>\n",
    "</ul>"
   ]
  },
  {
   "cell_type": "markdown",
   "metadata": {
    "pycharm": {
     "name": "#%% md\n"
    },
    "slideshow": {
     "slide_type": "subslide"
    }
   },
   "source": [
    "<h1 style=\"text-align: center; text-decoration: underline solid 1px grey;\">\n",
    "        Continuous Integration / Continuous Deployment<br>(CI/CD)\n",
    "</h1>\n",
    "\n",
    "<ul style=\"margin-top: 200px; float: left;\">\n",
    "    <li>\n",
    "        <h4>Automatische Tests/Integration</h4>\n",
    "    </li>\n",
    "    <li>\n",
    "        <h4>Automatsiche Builds/Nightly-Builds</span></h4>\n",
    "    </li>\n",
    "    <li>\n",
    "        <h4><span style=\"color:green\">+kontinuierlich geteste Software</span></h4>\n",
    "    </li>\n",
    "    <li>\n",
    "        <h4><span style=\"color:green\">+funktionsfähige Softwareversionen</span></h4>\n",
    "    </li>\n",
    "    <li>\n",
    "        <h4><span style=\"color:green\">+geringere Kosten als bei nachträglicher Fehlerbehebung</span></h4>\n",
    "    </li>\n",
    "</ul>"
   ]
  },
  {
   "cell_type": "markdown",
   "metadata": {
    "slideshow": {
     "slide_type": "subslide"
    },
    "pycharm": {
     "name": "#%% md\n"
    }
   },
   "source": [
    "<h1 style=\"text-align: center; text-decoration: underline solid 1px grey;\">\n",
    "        3rd Party-Software und Renovate\n",
    "</h1>\n",
    "\n",
    "<ul style=\"padding-top: 100px; display:table; margin:0 auto;\">\n",
    "    <li>\n",
    "        <h3>Automatische Updates</h3>\n",
    "    </li>\n",
    "</ul>"
   ]
  },
  {
   "cell_type": "markdown",
   "metadata": {
    "pycharm": {
     "name": "#%% md\n"
    },
    "slideshow": {
     "slide_type": "slide"
    }
   },
   "source": [
    "<h1 style=\"text-align: center; text-decoration: underline solid 1px grey;\">\n",
    "        Projektimplementierung\n",
    "</h1>\n",
    "<ul style=\"padding-top: 100px; display:table; margin:0 auto;\">\n",
    "    <li>\n",
    "        <h3>Wahl der Programmiersprache</h3>\n",
    "    </li>\n",
    "    <li>\n",
    "        <h3>GitLab-API</h3>\n",
    "    </li>\n",
    "    <li>\n",
    "        <h3>JSON</h3>\n",
    "    </li>\n",
    "    <li>\n",
    "        <h3>Regex</h3>\n",
    "    </li>\n",
    "</ul>\n"
   ]
  },
  {
   "cell_type": "markdown",
   "metadata": {
    "pycharm": {
     "name": "#%% md\n"
    },
    "slideshow": {
     "slide_type": "subslide"
    }
   },
   "source": [
    "<h1 style=\"text-align: center; text-decoration: underline solid 1px grey;\">\n",
    "        Warum <span style=\"color:rgb(255,102,0);\">Python</span> als Programmiersprache\n",
    "</h1>\n",
    "\n",
    "<ul style=\"margin-top: 200px; float: left;\">\n",
    "    <li>\n",
    "        <h4>Open-Source</h4>\n",
    "    </li>\n",
    "    <li>\n",
    "        <h4>Vielseitigkeit (Pakete)</h4>\n",
    "    </li>\n",
    "    <li>\n",
    "        <h4>Erweiterbarkeit (Optimierung)</h4>\n",
    "    </li>\n",
    "</ul>\n"
   ]
  },
  {
   "cell_type": "code",
   "execution_count": null,
   "metadata": {
    "pycharm": {
     "name": "#%%\n"
    },
    "scrolled": true,
    "slideshow": {
     "slide_type": "subslide"
    }
   },
   "outputs": [],
   "source": [
    "import requests\n",
    "from typing import List\n",
    "from datetime import datetime\n",
    "from urllib.parse import urlencode, urlunparse\n",
    "\n",
    "netloc_hs: str = 'r-n-d.informatik.hs-augsburg.de:8080/'\n",
    "\n",
    "def get_projects_string(protocol, netloc, rest_hook, p_token):\n",
    "    idx: int = 0\n",
    "    projects: List[str] = []\n",
    "    while True:\n",
    "        query: str = urlencode({'per_page': f'100', 'page': f'{idx}'})\n",
    "        url: str = urlunparse((protocol, netloc, f'{rest_hook}projects/', '', query, ''))\n",
    "        header = {'PRIVATE-TOKEN': f'{p_token}'}\n",
    "        response = requests.get(url, headers=header)\n",
    "        data: List[str] = [str(line) for line in response.json()]\n",
    "        if not data:\n",
    "            break\n",
    "        projects.extend(data)\n",
    "        idx += 1\n",
    "    return projects\n",
    "\n",
    "\n",
    "if __name__ == \"__main__\":\n",
    "    result: List = get_projects_string('https', netloc_hs, 'api/v4/', p_token_hsa)\n",
    "    if result:\n",
    "        print(result[0])"
   ]
  },
  {
   "cell_type": "code",
   "execution_count": null,
   "metadata": {
    "pycharm": {
     "name": "#%%\n"
    },
    "slideshow": {
     "slide_type": "subslide"
    }
   },
   "outputs": [],
   "source": [
    "response: str = \"\"\"{\n",
    "                   \"id\":7717,\n",
    "                   \"description\":\"\",\n",
    "                   \"name\":\"Rust Crypto Tool\",\n",
    "                   \"name_with_namespace\":\"Emily Truong / Rust Crypto Tool\",\n",
    "                   \"path\":\"rust-crypto-tool\",\n",
    "                   \"path_with_namespace\":\"emitr/rust-crypto-tool\",\n",
    "                   \"created_at\":\"2022-04-12T03:29:48.107Z\",\n",
    "                   \"default_branch\":\"master\",\n",
    "                   \"ssh_url_to_repo\":\"ssh://git@r-n-d.informatik.hs-augsburg.de:2222/emitr/rust-crypto-tool.git\",\n",
    "                   \"http_url_to_repo\":\"https://r-n-d.informatik.hs-augsburg.de:8080/emitr/rust-crypto-tool.git\",\n",
    "                   \"web_url\":\"https://r-n-d.informatik.hs-augsburg.de:8080/emitr/rust-crypto-tool\",\n",
    "                   \"readme_url\":\"https://r-n-d.informatik.hs-augsburg.de:8080/emitr/rust-crypto-tool/-/blob/master/README.md\",\n",
    "                   \"last_activity_at\":\"2022-04-12T03:29:48.107Z\",\n",
    "                   }\n",
    "\"\"\""
   ]
  },
  {
   "cell_type": "code",
   "execution_count": null,
   "metadata": {
    "pycharm": {
     "name": "#%%\n"
    },
    "slideshow": {
     "slide_type": "subslide"
    }
   },
   "outputs": [],
   "source": [
    "import re\n",
    "\n",
    "pattern = re.compile(r'{\\s*\\\"id\\\":(?P<id>\\d*).*?last_activity_at\\\":\\\"(?P<date>[\\d{2,4}-]*)', flags=re.M | re.S)\n",
    "\n",
    "if match := pattern.search(response):\n",
    "        \n",
    "    print(f\"Repo {match.group('id')} - Last time edited: {match.group('date')}\")"
   ]
  },
  {
   "cell_type": "code",
   "execution_count": null,
   "metadata": {
    "pycharm": {
     "name": "#%%\n"
    },
    "slideshow": {
     "slide_type": "subslide"
    }
   },
   "outputs": [],
   "source": [
    "def get_commit_messages(p_token, protocol, netloc, project_id: int = 11, since: datetime = None):\n",
    "    query: str = urlencode({'all': 'True'})\n",
    "    path: str = f'api/v4/projects/{project_id}/repository/commits'\n",
    "    url: str = urlunparse((protocol, netloc, path, '', query, ''))\n",
    "    header = {'PRIVATE-TOKEN': f'{p_token}'}\n",
    "    response = requests.get(url, headers=header)\n",
    "    return response.json()\n",
    "\n",
    "if __name__ == \"__main__\":\n",
    "    response = get_commit_messages(p_token_hsa, 'https', netloc_hs, project_id=7717)\n",
    "    print(response)"
   ]
  },
  {
   "cell_type": "code",
   "execution_count": null,
   "metadata": {
    "pycharm": {
     "name": "#%%\n"
    },
    "slideshow": {
     "slide_type": "subslide"
    }
   },
   "outputs": [],
   "source": [
    "commit = \"\"\"[\n",
    "           {\n",
    "              \"id\":\"f5718ef231f6165dfe34a58342afa0f81b0c3eca\",\n",
    "              \"short_id\":\"f5718ef2\",\n",
    "              \"created_at\":\"2021-02-05T22:20:04.000+01:00\",\n",
    "              \"parent_ids\":[\n",
    "                 \"5f68c515b9ee2d944d5c82fdaf7468bc056b9881\"\n",
    "              ],\n",
    "              \"title\":\"Add template gitignore\",\n",
    "              \"message\":\"Add template gitignore\",\n",
    "              \"author_name\":\"Philipp Schloyer\",\n",
    "              \"author_email\":\"philipp.schloyer@hs-augsburg.de\",\n",
    "              \"authored_date\":\"2021-02-05T22:20:04.000+01:00\",\n",
    "              \"committer_name\":\"Philipp Schloyer\",\n",
    "              \"committer_email\":\"philipp.schloyer@hs-augsburg.de\",\n",
    "              \"committed_date\":\"2021-02-05T22:20:04.000+01:00\",\n",
    "              \"trailers\":{\n",
    "\n",
    "              },\n",
    "              \"web_url\":\"https://r-n-d.informatik.hs-augsburg.de:8080/emitr/rust-crypto-tool/-/commit/f5718ef231f6165dfe34a58342afa0f81b0c3eca\"\n",
    "           },\n",
    "           {\n",
    "              \"id\":\"67af5dd75c23f8094a5405b68368ef0d24ce3ddb\",\n",
    "              \"short_id\":\"67af5dd7\",\n",
    "              \"created_at\":\"2021-02-05T22:21:49.000+01:00\",\n",
    "              \"parent_ids\":[\n",
    "                 \"f5718ef231f6165dfe34a58342afa0f81b0c3eca\"\n",
    "              ],\n",
    "              \"title\":\"added rct gitignore\",\n",
    "              \"message\":\"added rct gitignore\",\n",
    "              \"author_name\":\"Philipp Schloyer\",\n",
    "              \"author_email\":\"philipp.schloyer@hs-augsburg.de\",\n",
    "              \"authored_date\":\"2021-02-05T22:21:49.000+01:00\",\n",
    "              \"committer_name\":\"Philipp Schloyer\",\n",
    "              \"committer_email\":\"philipp.schloyer@hs-augsburg.de\",\n",
    "              \"committed_date\":\"2021-02-05T22:21:49.000+01:00\",\n",
    "              \"trailers\":{\n",
    "\n",
    "              },\n",
    "              \"web_url\":\"https://r-n-d.informatik.hs-augsburg.de:8080/emitr/rust-crypto-tool/-/commit/67af5dd75c23f8094a5405b68368ef0d24ce3ddb\"\n",
    "           }\n",
    "        ]\n",
    "        \"\"\""
   ]
  },
  {
   "cell_type": "code",
   "execution_count": null,
   "metadata": {
    "pycharm": {
     "name": "#%%\n"
    },
    "slideshow": {
     "slide_type": "subslide"
    }
   },
   "outputs": [],
   "source": [
    "pattern = re.compile(r\"\"\"\n",
    "                    created_at(?P<sep>\\\":\\\")    # Bildet Gruppe für Seperator da öfter vorkommend\n",
    "                    (?P<date>[\\d{2,4}-]*)T      # Gruppe Date, bestehend aus Zahlengruppen Länge 2-4 und - abgeschlossen mit T\n",
    "                    (?P<time>[\\d{2}:]*)         # Gruppe Time, bestehend aus Zahlengruppen Länge 2 und :\n",
    "                    .*?title(?P=sep)            # Erneutes auftreten der Seperator-Gruppe\n",
    "                    (?P<title>[\\w\\s]*)\\\"        # Gruppe Title, bestehend aus Zeichen, Zahlen und Whitespace abgeschlossen mit Apostrophe\n",
    "                    .*?message(?P=sep)          # Erneutes auftreten der Seperator-Gruppe\n",
    "                    (?P<msg>.*?)\\\"              # Gruppe Msg, bestehend aus beliebigen Zeichen abgeschlossen mit Apostrophe\n",
    "                    .*?author_name(?P=sep)      # Erneutes auftreten der Seperator-Gruppe\n",
    "                    (?P<author>[\\w\\s]+?)\\\"      # Gruppe Author, bestehend aus Zeichen und Whitespace\n",
    "                     \"\"\", flags=re.M | re.S | re.VERBOSE)\n",
    "\n",
    "for match in pattern.finditer(commit):\n",
    "    print(f'{match.group(\"author\")} changed Repository on {match.group(\"date\")} at {match.group(\"time\")} with following message:\\n'\n",
    "          f'Title:\\t {match.group(\"title\")}\\n'\n",
    "          f'Msg:\\t {match.group(\"msg\")}\\n')"
   ]
  },
  {
   "cell_type": "markdown",
   "metadata": {
    "slideshow": {
     "slide_type": "slide"
    },
    "pycharm": {
     "name": "#%% md\n"
    }
   },
   "source": [
    "<h1 style=\"text-align: center; text-decoration: underline solid 1px grey;\">\n",
    "        Zusammenführung\n",
    "</h1>\n",
    "\n",
    "<img src=\"img/result.png\"\n",
    "     alt=\"report-img\"\n",
    "     style=\"display: block; margin_top:200px; margin-left: auto; margin-right: auto; width: 75%\" />\n"
   ]
  },
  {
   "cell_type": "markdown",
   "metadata": {
    "slideshow": {
     "slide_type": "slide"
    },
    "pycharm": {
     "name": "#%% md\n"
    }
   },
   "source": [
    "<h1 style=\"text-align: center; text-decoration: underline solid 1px grey;\">\n",
    "        Rekapitulation und Ausblick\n",
    "</h1>\n",
    "\n",
    "<ul style=\"padding-top: 100px; display:table; margin:0 auto;\">\n",
    "    <li>\n",
    "        <h4>Nutzen und Anwendungsbereiche von Reportlösungen</h4>\n",
    "    </li>\n",
    "    <li>\n",
    "        <h4>Anwendungsspezifische Ausarbeitung eines automatischen Wartungs-Dienstleistungsreports</h4>\n",
    "    </li>\n",
    "    <li>\n",
    "        <h4><span style=\"color:red\">Releasnotes</span></h4>\n",
    "    </li>\n",
    "</ul>"
   ]
  },
  {
   "cell_type": "markdown",
   "metadata": {
    "slideshow": {
     "slide_type": "subslide"
    },
    "pycharm": {
     "name": "#%% md\n"
    }
   },
   "source": [
    "<h1 style=\"text-align: center; text-decoration: underline solid 1px grey;\">\n",
    "        Fragen ?\n",
    "</h1>"
   ]
  }
 ],
 "metadata": {
  "celltoolbar": "Slideshow",
  "kernelspec": {
   "display_name": "Python 3 (ipykernel)",
   "language": "python",
   "name": "python3"
  },
  "language_info": {
   "codemirror_mode": {
    "name": "ipython",
    "version": 3
   },
   "file_extension": ".py",
   "mimetype": "text/x-python",
   "name": "python",
   "nbconvert_exporter": "python",
   "pygments_lexer": "ipython3",
   "version": "3.10.4"
  }
 },
 "nbformat": 4,
 "nbformat_minor": 1
}